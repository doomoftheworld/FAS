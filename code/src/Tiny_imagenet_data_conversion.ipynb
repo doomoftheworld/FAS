{
 "cells": [
  {
   "cell_type": "markdown",
   "id": "7e88ded8",
   "metadata": {},
   "source": [
    "### *Module Loading*"
   ]
  },
  {
   "cell_type": "code",
   "execution_count": null,
   "id": "0edbfb6a",
   "metadata": {
    "scrolled": true
   },
   "outputs": [],
   "source": [
    "import sys\n",
    "import shutil\n",
    "import cv2\n",
    "from IPython import display"
   ]
  },
  {
   "cell_type": "markdown",
   "id": "7ccbc82f",
   "metadata": {},
   "source": [
    "### *External Module Loading*"
   ]
  },
  {
   "cell_type": "code",
   "execution_count": null,
   "id": "dcf4ad4e",
   "metadata": {
    "scrolled": true
   },
   "outputs": [],
   "source": [
    "external_modules_path = '..\\\\nn_likelihood_modules'\n",
    "sys.path.append(external_modules_path)"
   ]
  },
  {
   "cell_type": "code",
   "execution_count": null,
   "id": "fe63d714",
   "metadata": {
    "scrolled": true
   },
   "outputs": [],
   "source": [
    "from common_imports import *\n",
    "from common_use_functions import *\n",
    "from constant import *"
   ]
  },
  {
   "cell_type": "markdown",
   "id": "b8dc22ef",
   "metadata": {},
   "source": [
    "### *GPU verification*"
   ]
  },
  {
   "cell_type": "code",
   "execution_count": null,
   "id": "930c998b",
   "metadata": {
    "scrolled": true
   },
   "outputs": [],
   "source": [
    "# Get the GPU\n",
    "device = torch.device(\"cuda\" if torch.cuda.is_available() else \"cpu\")\n",
    "nb_gpu = torch.cuda.device_count()\n",
    "if nb_gpu > 0:\n",
    "    print(torch.cuda.get_device_name(0))\n",
    "else:\n",
    "    print(\"CPU\")"
   ]
  },
  {
   "cell_type": "markdown",
   "id": "0701537f",
   "metadata": {},
   "source": [
    "### *Working directory*"
   ]
  },
  {
   "cell_type": "code",
   "execution_count": null,
   "id": "89c6568b",
   "metadata": {
    "scrolled": true
   },
   "outputs": [],
   "source": [
    "# Current path\n",
    "current_path = os.path.abspath(os.getcwd())"
   ]
  },
  {
   "cell_type": "markdown",
   "id": "9f5c8167",
   "metadata": {},
   "source": [
    "### *Load configurations and data*"
   ]
  },
  {
   "cell_type": "code",
   "execution_count": null,
   "id": "8cd2037f",
   "metadata": {
    "scrolled": true
   },
   "outputs": [],
   "source": [
    "\"\"\"\n",
    "All the parameters in this part should be configured\n",
    "\"\"\"\n",
    "# Experience path\n",
    "experim_path = current_path\n",
    "\n",
    "# File extensions\n",
    "json_ext = '.json'\n",
    "np_ext = '.npy'\n",
    "csv_ext = '.csv'\n",
    "\n",
    "# The tiny-imagenet folder\n",
    "tiny_imagenet_path = path_join(experim_path, 'tiny-imagenet-200')\n",
    "tiny_imagenet_val_path = path_join(tiny_imagenet_path, 'val')\n",
    "tiny_imagenet_train_path = path_join(tiny_imagenet_path, 'train')\n",
    "tiny_imagenet_reform_path = path_join(experim_path, 'tiny-imagenet-200-reform')\n",
    "tiny_imagenet_reform_val_path = path_join(tiny_imagenet_reform_path, 'reform_val')\n",
    "tiny_imagenet_reform_train_path = path_join(tiny_imagenet_reform_path, 'reform_train')\n",
    "\n",
    "# The tiny-imagenet-c folder\n",
    "tiny_imagenet_c_path = path_join(experim_path, 'Tiny-ImageNet-C')\n",
    "tiny_imagenet_c_reform_path = path_join(experim_path, 'Tiny-ImageNet-C-reform')\n",
    "\n",
    "# Resized image size\n",
    "resized_image_size = 256"
   ]
  },
  {
   "cell_type": "markdown",
   "id": "d91457c9",
   "metadata": {},
   "source": [
    "### *Tiny-imagenet reformulation*"
   ]
  },
  {
   "cell_type": "code",
   "execution_count": null,
   "id": "70c04eb3",
   "metadata": {
    "scrolled": true
   },
   "outputs": [],
   "source": [
    "# Arrange the tiny imagenet validation set\n",
    "tiny_imagenet_val_annotations = pd.read_csv(path_join(tiny_imagenet_val_path, 'val_annotations.txt'),\n",
    "                                            names=['file', 'label_code', 'b_x0', 'b_y0', 'b_x1', 'b_y1'], header=None, sep='\\t')"
   ]
  },
  {
   "cell_type": "code",
   "execution_count": null,
   "id": "8387f1ff-d027-47bb-9758-b9a121c7bacf",
   "metadata": {
    "scrolled": true
   },
   "outputs": [],
   "source": [
    "# Create the folder that will contain the reformed images\n",
    "create_directory(tiny_imagenet_reform_path)"
   ]
  },
  {
   "cell_type": "code",
   "execution_count": null,
   "id": "65186b48",
   "metadata": {
    "scrolled": false
   },
   "outputs": [],
   "source": [
    "# Create the reformulated validation set folder\n",
    "create_directory(tiny_imagenet_reform_val_path)\n",
    "# Create the reformed validation set with the same structure as the train set\n",
    "uniq_label_codes = tiny_imagenet_val_annotations['label_code'].unique()\n",
    "for label_code in uniq_label_codes:\n",
    "    create_directory(path_join(tiny_imagenet_reform_val_path, label_code))\n",
    "# Copy the image to corresponding subfolder\n",
    "for _, image_item in tqdm(tiny_imagenet_val_annotations.iterrows(), desc='Copied images', total=tiny_imagenet_val_annotations.shape[0]):\n",
    "    ## Resize the image and then save\n",
    "    # Read the image\n",
    "    image = cv2.imread(path_join(tiny_imagenet_val_path, 'images', image_item['file']))\n",
    "    # Resize the image\n",
    "    resized_image = cv2.resize(image, (resized_image_size,resized_image_size))\n",
    "    # Save the resized image     \n",
    "    cv2.imwrite(path_join(tiny_imagenet_reform_val_path, image_item['label_code'], image_item['file']), resized_image) \n",
    "#     # Code to copy directly the images     \n",
    "#     shutil.copy(path_join(tiny_imagenet_val_path, 'images', image_item['file']), path_join(tiny_imagenet_reform_val_path, image_item['label_code']))"
   ]
  },
  {
   "cell_type": "code",
   "execution_count": null,
   "id": "ea1822d6",
   "metadata": {
    "scrolled": true
   },
   "outputs": [],
   "source": [
    "## Reform the training set\n",
    "# Create the intial folder\n",
    "create_directory(tiny_imagenet_reform_train_path)\n",
    "# Copy the folder and images\n",
    "for label_code in tqdm(contents_of_folder(tiny_imagenet_train_path), desc='Copied classes'):\n",
    "    # Create the copied folder\n",
    "    create_directory(path_join(tiny_imagenet_reform_train_path, label_code), display=False)\n",
    "    # Get the image contents\n",
    "    current_label_image_files = contents_of_folder(path_join(tiny_imagenet_train_path, label_code, 'images'))\n",
    "    # Copy the images\n",
    "    for image_file in current_label_image_files:\n",
    "        ## Resize the image and then save\n",
    "        # Read the image\n",
    "        image = cv2.imread(path_join(tiny_imagenet_train_path, label_code, 'images', image_file))\n",
    "        # Resize the image\n",
    "        resized_image = cv2.resize(image, (resized_image_size,resized_image_size))\n",
    "        # Save the resized image     \n",
    "        cv2.imwrite(path_join(tiny_imagenet_reform_train_path, label_code, image_file), resized_image) \n",
    "#         # Code to copy directly the images  \n",
    "#         shutil.copy(path_join(tiny_imagenet_train_path, label_code, 'images', image_file),\n",
    "#                     path_join(tiny_imagenet_reform_train_path, label_code))"
   ]
  },
  {
   "cell_type": "markdown",
   "id": "58896c17-1d61-43d6-9616-982843c9743b",
   "metadata": {},
   "source": [
    "### *Tiny-imagenet-c reformulation*"
   ]
  },
  {
   "cell_type": "code",
   "execution_count": null,
   "id": "d02cb297-578d-44d1-b5e2-aaf9a4276584",
   "metadata": {
    "scrolled": true
   },
   "outputs": [],
   "source": [
    "# Create the reformed dataset folder\n",
    "create_directory(tiny_imagenet_c_reform_path)"
   ]
  },
  {
   "cell_type": "code",
   "execution_count": null,
   "id": "d000cdc8-0c4c-401c-bc19-b4cf11bf2ab6",
   "metadata": {
    "scrolled": true
   },
   "outputs": [],
   "source": [
    "## Reform the images in the tiny-imagenet-c dataset\n",
    "# Read the different type of modifications\n",
    "transformations = contents_of_folder(tiny_imagenet_c_path)\n",
    "# Iterate over the transformation types for the reformulation\n",
    "for transformation in tqdm(transformations, desc='Copied transformations'):\n",
    "    # Build the current transformation folder path\n",
    "    current_transformation_path = path_join(tiny_imagenet_c_path, transformation)\n",
    "    # Get all the severity levels\n",
    "    severities = contents_of_folder(current_transformation_path)\n",
    "    # Iterate over all the severity levels\n",
    "    for severity in severities:\n",
    "        # Build the current severity folder path\n",
    "        current_severity_path = path_join(current_transformation_path, severity)\n",
    "        # Create the reformulation folder\n",
    "        current_severity_reform_path = path_join(tiny_imagenet_c_reform_path, transformation+'_'+severity)\n",
    "        create_directory(current_severity_reform_path, display=False)\n",
    "        # Get the label codes\n",
    "        label_codes = contents_of_folder(current_severity_path)\n",
    "        # Iterate over the label codes for resizing the images\n",
    "        for label_code in label_codes:\n",
    "            # Build the current label code folder path\n",
    "            current_label_code_folder_path = path_join(current_severity_path, label_code)\n",
    "            # Get the image contents\n",
    "            current_label_image_files = contents_of_folder(current_label_code_folder_path)\n",
    "            # Build the reformed label code image path\n",
    "            current_label_code_reform_path = path_join(current_severity_reform_path, label_code)\n",
    "            create_directory(current_label_code_reform_path, display=False)   \n",
    "            # Copy the images\n",
    "            for image_file in current_label_image_files:\n",
    "                ## Resize the image and then save\n",
    "                # Read the image\n",
    "                image = cv2.imread(path_join(current_label_code_folder_path, image_file))\n",
    "                # Resize the image\n",
    "                resized_image = cv2.resize(image, (resized_image_size,resized_image_size))\n",
    "                # Save the resized image     \n",
    "                cv2.imwrite(path_join(current_label_code_reform_path, image_file), resized_image) "
   ]
  }
 ],
 "metadata": {
  "kernelspec": {
   "display_name": "Python 3 (ipykernel)",
   "language": "python",
   "name": "python3"
  },
  "language_info": {
   "codemirror_mode": {
    "name": "ipython",
    "version": 3
   },
   "file_extension": ".py",
   "mimetype": "text/x-python",
   "name": "python",
   "nbconvert_exporter": "python",
   "pygments_lexer": "ipython3",
   "version": "3.11.4"
  }
 },
 "nbformat": 4,
 "nbformat_minor": 5
}
