{
 "cells": [
  {
   "cell_type": "markdown",
   "id": "7e88ded8",
   "metadata": {},
   "source": [
    "### *Module Loading*"
   ]
  },
  {
   "cell_type": "code",
   "execution_count": null,
   "id": "0edbfb6a",
   "metadata": {},
   "outputs": [],
   "source": [
    "import sys\n",
    "from IPython import display"
   ]
  },
  {
   "cell_type": "markdown",
   "id": "7ccbc82f",
   "metadata": {},
   "source": [
    "### *External Module Loading*"
   ]
  },
  {
   "cell_type": "code",
   "execution_count": null,
   "id": "dcf4ad4e",
   "metadata": {},
   "outputs": [],
   "source": [
    "external_modules_path = '..\\\\nn_likelihood_modules'\n",
    "sys.path.append(external_modules_path)"
   ]
  },
  {
   "cell_type": "code",
   "execution_count": null,
   "id": "fe63d714",
   "metadata": {},
   "outputs": [],
   "source": [
    "from basic_network_structure import *\n",
    "from common_imports import *\n",
    "from common_use_functions import *\n",
    "from constant import *\n",
    "from defined_data_structure import *\n",
    "from defined_network_structure import *\n",
    "from experim_neural_network import *\n",
    "from experim_preparation import *\n",
    "from ResNet import *\n",
    "from experim_ResNet import *\n",
    "from cifar_10_data_prep import *"
   ]
  },
  {
   "cell_type": "markdown",
   "id": "b8dc22ef",
   "metadata": {},
   "source": [
    "### *GPU verification*"
   ]
  },
  {
   "cell_type": "code",
   "execution_count": null,
   "id": "930c998b",
   "metadata": {},
   "outputs": [],
   "source": [
    "# Get the GPU\n",
    "device = torch.device(\"cuda\" if torch.cuda.is_available() else \"cpu\")\n",
    "nb_gpu = torch.cuda.device_count()\n",
    "if nb_gpu > 0:\n",
    "    print(torch.cuda.get_device_name(0))\n",
    "else:\n",
    "    print(\"CPU\")"
   ]
  },
  {
   "cell_type": "markdown",
   "id": "0701537f",
   "metadata": {},
   "source": [
    "### *Working directory*"
   ]
  },
  {
   "cell_type": "code",
   "execution_count": null,
   "id": "89c6568b",
   "metadata": {},
   "outputs": [],
   "source": [
    "# Current path\n",
    "current_path = os.path.abspath(os.getcwd())"
   ]
  },
  {
   "cell_type": "markdown",
   "id": "9f5c8167",
   "metadata": {},
   "source": [
    "### *Load configurations and data*"
   ]
  },
  {
   "cell_type": "code",
   "execution_count": null,
   "id": "8cd2037f",
   "metadata": {},
   "outputs": [],
   "source": [
    "\"\"\"\n",
    "All the parameters in this part should be configured\n",
    "\"\"\"\n",
    "# Experience path\n",
    "experim_path = current_path\n",
    "\n",
    "# File extensions\n",
    "json_ext = '.json'\n",
    "np_ext = '.npy'\n",
    "csv_ext = '.csv'\n",
    "\n",
    "# Save paths\n",
    "model_save_path = path_join(experim_path, 'experim_models_resnet')\n",
    "\n",
    "# Trained model name\n",
    "trained_resnet_name = 'cifar10_resnet18_9304'\n",
    "\n",
    "# Indices filenames\n",
    "train_indices_filename = 'train_indices_9304'\n",
    "valid_indices_filename = 'valid_indices_9304'\n",
    "\n",
    "# Tested sets name\n",
    "train_set_name = 'train'\n",
    "test_set_name = 'test'\n",
    "valid_set_name = 'valid'\n",
    "input_extension = 'X'\n",
    "label_extension = 'Y'\n",
    "\n",
    "# Dataset general informations\n",
    "data_set_infos = {\n",
    "    'nb_classes' : 10\n",
    "}\n",
    "\n",
    "# Batch size for the dataloader creation\n",
    "torch_batch_size = 128"
   ]
  },
  {
   "cell_type": "markdown",
   "id": "d91457c9",
   "metadata": {},
   "source": [
    "### *Cifar10 dataset preparation*"
   ]
  },
  {
   "cell_type": "code",
   "execution_count": null,
   "id": "b21af3ae",
   "metadata": {},
   "outputs": [],
   "source": [
    "# Get the dataset\n",
    "cifar10_train_dataset, cifar10_test_dataset = get_cifar10_dataset_without_transform()"
   ]
  },
  {
   "cell_type": "code",
   "execution_count": null,
   "id": "39314b4c",
   "metadata": {},
   "outputs": [],
   "source": [
    "# Load train valid indices\n",
    "train_indices = load_json(open(path_join(model_save_path, train_indices_filename+json_ext)))\n",
    "valid_indices = load_json(open(path_join(model_save_path, valid_indices_filename+json_ext)))"
   ]
  },
  {
   "cell_type": "code",
   "execution_count": null,
   "id": "2b189fd5",
   "metadata": {},
   "outputs": [],
   "source": [
    "# Build the subsets\n",
    "cifar10_real_train_dataset = Subset(cifar10_train_dataset, train_indices)\n",
    "cifar10_valid_dataset = Subset(cifar10_train_dataset, valid_indices)"
   ]
  },
  {
   "cell_type": "markdown",
   "id": "b9931900",
   "metadata": {},
   "source": [
    "### *Load the trained ResNet*"
   ]
  },
  {
   "cell_type": "code",
   "execution_count": null,
   "id": "132f3376",
   "metadata": {},
   "outputs": [],
   "source": [
    "# Load the model\n",
    "trained_resnet = load_model_by_net_name(model_save_path, trained_resnet_name)"
   ]
  },
  {
   "cell_type": "markdown",
   "id": "e3abc98f",
   "metadata": {},
   "source": [
    "### *ResNet evaluation*"
   ]
  },
  {
   "cell_type": "code",
   "execution_count": null,
   "id": "d5bd8070",
   "metadata": {},
   "outputs": [],
   "source": [
    "# Dataloader building\n",
    "train_loader = create_loader_from_torch_dataset(cifar10_real_train_dataset, batch_size=torch_batch_size, shuffle=False, num_workers=0)\n",
    "valid_loader = create_loader_from_torch_dataset(cifar10_valid_dataset, batch_size=torch_batch_size, shuffle=False, num_workers=0)\n",
    "test_loader = create_loader_from_torch_dataset(cifar10_test_dataset, batch_size=torch_batch_size, shuffle=False, num_workers=0)"
   ]
  },
  {
   "cell_type": "code",
   "execution_count": null,
   "id": "0bfbed5c",
   "metadata": {},
   "outputs": [],
   "source": [
    "# Evaluation on the test set\n",
    "accuracy_eval(trained_resnet, train_loader, set_name='train')\n",
    "accuracy_eval(trained_resnet, valid_loader, set_name='valid')\n",
    "accuracy_eval(trained_resnet, test_loader, set_name='test')"
   ]
  }
 ],
 "metadata": {
  "kernelspec": {
   "display_name": "Python 3 (ipykernel)",
   "language": "python",
   "name": "python3"
  },
  "language_info": {
   "codemirror_mode": {
    "name": "ipython",
    "version": 3
   },
   "file_extension": ".py",
   "mimetype": "text/x-python",
   "name": "python",
   "nbconvert_exporter": "python",
   "pygments_lexer": "ipython3",
   "version": "3.11.4"
  }
 },
 "nbformat": 4,
 "nbformat_minor": 5
}
