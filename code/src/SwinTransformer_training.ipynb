{
 "cells": [
  {
   "cell_type": "markdown",
   "id": "7e88ded8",
   "metadata": {},
   "source": [
    "### *Module Loading*"
   ]
  },
  {
   "cell_type": "code",
   "execution_count": null,
   "id": "0edbfb6a",
   "metadata": {},
   "outputs": [],
   "source": [
    "import sys\n",
    "import shutil\n",
    "import cv2\n",
    "from IPython import display"
   ]
  },
  {
   "cell_type": "markdown",
   "id": "7ccbc82f",
   "metadata": {},
   "source": [
    "### *External Module Loading*"
   ]
  },
  {
   "cell_type": "code",
   "execution_count": null,
   "id": "dcf4ad4e",
   "metadata": {},
   "outputs": [],
   "source": [
    "external_modules_path = '..\\\\nn_likelihood_modules'\n",
    "sys.path.append(external_modules_path)"
   ]
  },
  {
   "cell_type": "code",
   "execution_count": null,
   "id": "fe63d714",
   "metadata": {},
   "outputs": [],
   "source": [
    "from basic_network_structure import *\n",
    "from common_imports import *\n",
    "from common_use_functions import *\n",
    "from constant import *\n",
    "from defined_data_structure import *\n",
    "from defined_network_structure import *\n",
    "from experim_neural_network import *\n",
    "from experim_preparation import *\n",
    "from experim_ResNet import *\n",
    "from ResNet import *\n",
    "from experim_swintransformer import *\n",
    "from tiny_imagenet_data_prep import *\n",
    "from pytorch_swintransformer import *\n",
    "from pytorch_swintransformer_modified import *"
   ]
  },
  {
   "cell_type": "markdown",
   "id": "b8dc22ef",
   "metadata": {},
   "source": [
    "### *GPU verification*"
   ]
  },
  {
   "cell_type": "code",
   "execution_count": null,
   "id": "930c998b",
   "metadata": {},
   "outputs": [],
   "source": [
    "# Get the GPU\n",
    "device = torch.device(\"cuda\" if torch.cuda.is_available() else \"cpu\")\n",
    "nb_gpu = torch.cuda.device_count()\n",
    "if nb_gpu > 0:\n",
    "    print(torch.cuda.get_device_name(0))\n",
    "else:\n",
    "    print(\"CPU\")"
   ]
  },
  {
   "cell_type": "markdown",
   "id": "0701537f",
   "metadata": {},
   "source": [
    "### *Working directory*"
   ]
  },
  {
   "cell_type": "code",
   "execution_count": null,
   "id": "89c6568b",
   "metadata": {},
   "outputs": [],
   "source": [
    "# Current path\n",
    "current_path = os.path.abspath(os.getcwd())"
   ]
  },
  {
   "cell_type": "markdown",
   "id": "9f5c8167",
   "metadata": {},
   "source": [
    "### *Load configurations and data*"
   ]
  },
  {
   "cell_type": "code",
   "execution_count": null,
   "id": "8cd2037f",
   "metadata": {},
   "outputs": [],
   "source": [
    "\"\"\"\n",
    "All the parameters in this part should be configured\n",
    "\"\"\"\n",
    "# Experience path\n",
    "experim_path = current_path\n",
    "\n",
    "# File extensions\n",
    "json_ext = '.json'\n",
    "np_ext = '.npy'\n",
    "csv_ext = '.csv'\n",
    "\n",
    "# The tiny imagenet folder\n",
    "tiny_imagenet_path = 'D:\\\\Doctorat\\\\research\\\\Tiny_imagenet_experim\\\\tiny-imagenet-200-reform\\\\'\n",
    "tiny_imagenet_val_path = path_join(tiny_imagenet_path, 'reform_val')\n",
    "tiny_imagenet_train_path = path_join(tiny_imagenet_path, 'reform_train')\n",
    "\n",
    "# Save paths\n",
    "model_save_path = path_join(experim_path, 'experim_models_swin')\n",
    "\n",
    "# ResNet related params\n",
    "model_name_prefix = 'tiny_imagenet'\n",
    "model_name = 'swin'\n",
    "\n",
    "# Tested sets name\n",
    "train_set_name = 'train'\n",
    "test_set_name = 'test'\n",
    "valid_set_name = 'valid'\n",
    "input_extension = 'X'\n",
    "label_extension = 'Y'\n",
    "\n",
    "# Resized image size\n",
    "resized_image_size = 256\n",
    "\n",
    "# Dataset general informations\n",
    "data_set_infos = {\n",
    "    'nb_classes' : 10\n",
    "}\n",
    "\n",
    "# Batch size for the dataloader creation\n",
    "torch_batch_size = 2"
   ]
  },
  {
   "cell_type": "code",
   "execution_count": null,
   "id": "40cdb4b7",
   "metadata": {},
   "outputs": [],
   "source": [
    "# Create the folder to save models and data if not existed\n",
    "create_directory(model_save_path)"
   ]
  },
  {
   "cell_type": "markdown",
   "id": "d91457c9",
   "metadata": {},
   "source": [
    "### *Tiny image net preparation*"
   ]
  },
  {
   "cell_type": "code",
   "execution_count": null,
   "id": "b21af3ae",
   "metadata": {},
   "outputs": [],
   "source": [
    "# Load the Tiny imagenet dataset (Since the test set don't have labels we will not use it, we use valid set as test set)\n",
    "tiny_imagenet_train_dataset, tiny_imagenet_test_dataset = get_tiny_imagenet_dataset(tiny_imagenet_train_path, tiny_imagenet_val_path)"
   ]
  },
  {
   "cell_type": "markdown",
   "id": "b9931900",
   "metadata": {},
   "source": [
    "### *Swintrasnformer initialization*"
   ]
  },
  {
   "cell_type": "code",
   "execution_count": null,
   "id": "0328165c",
   "metadata": {},
   "outputs": [],
   "source": [
    "# Get the pretrained dict\n",
    "pretrained_swin_model = get_swin_v2_b(pretrained=True, num_classes=1000)\n",
    "pretrained_swin_state_dict = pretrained_swin_model.state_dict()"
   ]
  },
  {
   "cell_type": "code",
   "execution_count": null,
   "id": "132f3376",
   "metadata": {},
   "outputs": [],
   "source": [
    "# Create the swintransformer\n",
    "swin = get_swin_v2_b_modified(num_classes=200, hidden_size=1024)"
   ]
  },
  {
   "cell_type": "code",
   "execution_count": null,
   "id": "993b3f83",
   "metadata": {},
   "outputs": [],
   "source": [
    "## Update the weights with the pretrained weights\n",
    "# Get the model state dict\n",
    "swin_state_dict = swin.state_dict()\n",
    "# Get the weight without head\n",
    "pretrained_weight_dict = {k: v for k, v in pretrained_swin_state_dict.items() if 'head' not in k}\n",
    "# Update the model dict with the pretrained weights\n",
    "swin_state_dict.update(pretrained_weight_dict) \n",
    "# Load the pretrained weights\n",
    "swin.load_state_dict(swin_state_dict)"
   ]
  },
  {
   "cell_type": "code",
   "execution_count": null,
   "id": "01d424ce",
   "metadata": {},
   "outputs": [],
   "source": [
    "swin"
   ]
  },
  {
   "cell_type": "markdown",
   "id": "e3abc98f",
   "metadata": {},
   "source": [
    "### *SwinTransformer training*"
   ]
  },
  {
   "cell_type": "code",
   "execution_count": null,
   "id": "9d718fad",
   "metadata": {},
   "outputs": [],
   "source": [
    "# Training hyperparameters\n",
    "lr = 0.000005\n",
    "optim_type = 'adamw'\n",
    "nb_epochs = 20\n",
    "criterion_type = 'cross_entropy'"
   ]
  },
  {
   "cell_type": "code",
   "execution_count": null,
   "id": "0d5f0977",
   "metadata": {},
   "outputs": [],
   "source": [
    "# Training preparation\n",
    "train_criterion = nn.CrossEntropyLoss(reduction='mean', label_smoothing=0.1) \n",
    "eval_criterion = get_criterion(criterion_type, mean_reduction=False)\n",
    "optimizer = optim.AdamW(swin.parameters(), lr=lr, weight_decay=0.05)"
   ]
  },
  {
   "cell_type": "code",
   "execution_count": null,
   "id": "d5bd8070",
   "metadata": {},
   "outputs": [],
   "source": [
    "# Dataloader building\n",
    "train_loader = create_loader_from_torch_dataset(tiny_imagenet_train_dataset, batch_size=torch_batch_size, shuffle=True, num_workers=0)\n",
    "test_loader = create_loader_from_torch_dataset(tiny_imagenet_test_dataset, batch_size=torch_batch_size, shuffle=False, num_workers=0)"
   ]
  },
  {
   "cell_type": "code",
   "execution_count": null,
   "id": "b45daedc",
   "metadata": {},
   "outputs": [],
   "source": [
    "# Training\n",
    "train_hist = train_network_without_valid_cosine_annealing(swin, nb_epochs, train_loader, test_loader, 32 // torch_batch_size, optimizer, train_criterion, eval_criterion,\n",
    "                                    pth=model_save_path, net_name=join_string([model_name_prefix, model_name]), lr_scheduler=True)"
   ]
  },
  {
   "cell_type": "code",
   "execution_count": null,
   "id": "0bfbed5c",
   "metadata": {},
   "outputs": [],
   "source": [
    "# Evaluation on the test set\n",
    "accuracy_eval(swin, test_loader, set_name='test')"
   ]
  }
 ],
 "metadata": {
  "kernelspec": {
   "display_name": "Python 3 (ipykernel)",
   "language": "python",
   "name": "python3"
  },
  "language_info": {
   "codemirror_mode": {
    "name": "ipython",
    "version": 3
   },
   "file_extension": ".py",
   "mimetype": "text/x-python",
   "name": "python",
   "nbconvert_exporter": "python",
   "pygments_lexer": "ipython3",
   "version": "3.11.4"
  }
 },
 "nbformat": 4,
 "nbformat_minor": 5
}
